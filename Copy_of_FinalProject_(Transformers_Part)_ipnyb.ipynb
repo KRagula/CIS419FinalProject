{
  "nbformat": 4,
  "nbformat_minor": 0,
  "metadata": {
    "colab": {
      "name": "Copy of FinalProject (Transformers Part).ipnyb",
      "provenance": [],
      "collapsed_sections": []
    },
    "kernelspec": {
      "name": "python3",
      "display_name": "Python 3"
    },
    "accelerator": "GPU",
    "widgets": {
      "application/vnd.jupyter.widget-state+json": {
        "62e075cb424f46d1943a45e37cc04000": {
          "model_module": "@jupyter-widgets/controls",
          "model_name": "HBoxModel",
          "state": {
            "_view_name": "HBoxView",
            "_dom_classes": [],
            "_model_name": "HBoxModel",
            "_view_module": "@jupyter-widgets/controls",
            "_model_module_version": "1.5.0",
            "_view_count": null,
            "_view_module_version": "1.5.0",
            "box_style": "",
            "layout": "IPY_MODEL_98b1c3b1bfcf4e3797cf28a4ba135c2c",
            "_model_module": "@jupyter-widgets/controls",
            "children": [
              "IPY_MODEL_2de4eda0cf3648168e36e524a4607c57",
              "IPY_MODEL_1e55bf774de943c1bd194781bc1deaf1"
            ]
          }
        },
        "98b1c3b1bfcf4e3797cf28a4ba135c2c": {
          "model_module": "@jupyter-widgets/base",
          "model_name": "LayoutModel",
          "state": {
            "_view_name": "LayoutView",
            "grid_template_rows": null,
            "right": null,
            "justify_content": null,
            "_view_module": "@jupyter-widgets/base",
            "overflow": null,
            "_model_module_version": "1.2.0",
            "_view_count": null,
            "flex_flow": null,
            "width": null,
            "min_width": null,
            "border": null,
            "align_items": null,
            "bottom": null,
            "_model_module": "@jupyter-widgets/base",
            "top": null,
            "grid_column": null,
            "overflow_y": null,
            "overflow_x": null,
            "grid_auto_flow": null,
            "grid_area": null,
            "grid_template_columns": null,
            "flex": null,
            "_model_name": "LayoutModel",
            "justify_items": null,
            "grid_row": null,
            "max_height": null,
            "align_content": null,
            "visibility": null,
            "align_self": null,
            "height": null,
            "min_height": null,
            "padding": null,
            "grid_auto_rows": null,
            "grid_gap": null,
            "max_width": null,
            "order": null,
            "_view_module_version": "1.2.0",
            "grid_template_areas": null,
            "object_position": null,
            "object_fit": null,
            "grid_auto_columns": null,
            "margin": null,
            "display": null,
            "left": null
          }
        },
        "2de4eda0cf3648168e36e524a4607c57": {
          "model_module": "@jupyter-widgets/controls",
          "model_name": "FloatProgressModel",
          "state": {
            "_view_name": "ProgressView",
            "style": "IPY_MODEL_1869b3dfab60478189e78b0fb020951b",
            "_dom_classes": [],
            "description": "Downloading: 100%",
            "_model_name": "FloatProgressModel",
            "bar_style": "success",
            "max": 433,
            "_view_module": "@jupyter-widgets/controls",
            "_model_module_version": "1.5.0",
            "value": 433,
            "_view_count": null,
            "_view_module_version": "1.5.0",
            "orientation": "horizontal",
            "min": 0,
            "description_tooltip": null,
            "_model_module": "@jupyter-widgets/controls",
            "layout": "IPY_MODEL_b1f5064305ed40a5b2069bfb1015e0e9"
          }
        },
        "1e55bf774de943c1bd194781bc1deaf1": {
          "model_module": "@jupyter-widgets/controls",
          "model_name": "HTMLModel",
          "state": {
            "_view_name": "HTMLView",
            "style": "IPY_MODEL_159a583ae06b479abca62b5f5139f029",
            "_dom_classes": [],
            "description": "",
            "_model_name": "HTMLModel",
            "placeholder": "​",
            "_view_module": "@jupyter-widgets/controls",
            "_model_module_version": "1.5.0",
            "value": " 433/433 [00:10&lt;00:00, 40.6B/s]",
            "_view_count": null,
            "_view_module_version": "1.5.0",
            "description_tooltip": null,
            "_model_module": "@jupyter-widgets/controls",
            "layout": "IPY_MODEL_d663d9e53dad48c2bf79b6745b03a446"
          }
        },
        "1869b3dfab60478189e78b0fb020951b": {
          "model_module": "@jupyter-widgets/controls",
          "model_name": "ProgressStyleModel",
          "state": {
            "_view_name": "StyleView",
            "_model_name": "ProgressStyleModel",
            "description_width": "initial",
            "_view_module": "@jupyter-widgets/base",
            "_model_module_version": "1.5.0",
            "_view_count": null,
            "_view_module_version": "1.2.0",
            "bar_color": null,
            "_model_module": "@jupyter-widgets/controls"
          }
        },
        "b1f5064305ed40a5b2069bfb1015e0e9": {
          "model_module": "@jupyter-widgets/base",
          "model_name": "LayoutModel",
          "state": {
            "_view_name": "LayoutView",
            "grid_template_rows": null,
            "right": null,
            "justify_content": null,
            "_view_module": "@jupyter-widgets/base",
            "overflow": null,
            "_model_module_version": "1.2.0",
            "_view_count": null,
            "flex_flow": null,
            "width": null,
            "min_width": null,
            "border": null,
            "align_items": null,
            "bottom": null,
            "_model_module": "@jupyter-widgets/base",
            "top": null,
            "grid_column": null,
            "overflow_y": null,
            "overflow_x": null,
            "grid_auto_flow": null,
            "grid_area": null,
            "grid_template_columns": null,
            "flex": null,
            "_model_name": "LayoutModel",
            "justify_items": null,
            "grid_row": null,
            "max_height": null,
            "align_content": null,
            "visibility": null,
            "align_self": null,
            "height": null,
            "min_height": null,
            "padding": null,
            "grid_auto_rows": null,
            "grid_gap": null,
            "max_width": null,
            "order": null,
            "_view_module_version": "1.2.0",
            "grid_template_areas": null,
            "object_position": null,
            "object_fit": null,
            "grid_auto_columns": null,
            "margin": null,
            "display": null,
            "left": null
          }
        },
        "159a583ae06b479abca62b5f5139f029": {
          "model_module": "@jupyter-widgets/controls",
          "model_name": "DescriptionStyleModel",
          "state": {
            "_view_name": "StyleView",
            "_model_name": "DescriptionStyleModel",
            "description_width": "",
            "_view_module": "@jupyter-widgets/base",
            "_model_module_version": "1.5.0",
            "_view_count": null,
            "_view_module_version": "1.2.0",
            "_model_module": "@jupyter-widgets/controls"
          }
        },
        "d663d9e53dad48c2bf79b6745b03a446": {
          "model_module": "@jupyter-widgets/base",
          "model_name": "LayoutModel",
          "state": {
            "_view_name": "LayoutView",
            "grid_template_rows": null,
            "right": null,
            "justify_content": null,
            "_view_module": "@jupyter-widgets/base",
            "overflow": null,
            "_model_module_version": "1.2.0",
            "_view_count": null,
            "flex_flow": null,
            "width": null,
            "min_width": null,
            "border": null,
            "align_items": null,
            "bottom": null,
            "_model_module": "@jupyter-widgets/base",
            "top": null,
            "grid_column": null,
            "overflow_y": null,
            "overflow_x": null,
            "grid_auto_flow": null,
            "grid_area": null,
            "grid_template_columns": null,
            "flex": null,
            "_model_name": "LayoutModel",
            "justify_items": null,
            "grid_row": null,
            "max_height": null,
            "align_content": null,
            "visibility": null,
            "align_self": null,
            "height": null,
            "min_height": null,
            "padding": null,
            "grid_auto_rows": null,
            "grid_gap": null,
            "max_width": null,
            "order": null,
            "_view_module_version": "1.2.0",
            "grid_template_areas": null,
            "object_position": null,
            "object_fit": null,
            "grid_auto_columns": null,
            "margin": null,
            "display": null,
            "left": null
          }
        },
        "6750d0d0d313486d94d07de62c4c9231": {
          "model_module": "@jupyter-widgets/controls",
          "model_name": "HBoxModel",
          "state": {
            "_view_name": "HBoxView",
            "_dom_classes": [],
            "_model_name": "HBoxModel",
            "_view_module": "@jupyter-widgets/controls",
            "_model_module_version": "1.5.0",
            "_view_count": null,
            "_view_module_version": "1.5.0",
            "box_style": "",
            "layout": "IPY_MODEL_0727e348438e48718f6aa5d81233a52d",
            "_model_module": "@jupyter-widgets/controls",
            "children": [
              "IPY_MODEL_cee7dba1bbd34433bfe2667e5b901e70",
              "IPY_MODEL_059e847068714cb1a0d4f1372c5df8d3"
            ]
          }
        },
        "0727e348438e48718f6aa5d81233a52d": {
          "model_module": "@jupyter-widgets/base",
          "model_name": "LayoutModel",
          "state": {
            "_view_name": "LayoutView",
            "grid_template_rows": null,
            "right": null,
            "justify_content": null,
            "_view_module": "@jupyter-widgets/base",
            "overflow": null,
            "_model_module_version": "1.2.0",
            "_view_count": null,
            "flex_flow": null,
            "width": null,
            "min_width": null,
            "border": null,
            "align_items": null,
            "bottom": null,
            "_model_module": "@jupyter-widgets/base",
            "top": null,
            "grid_column": null,
            "overflow_y": null,
            "overflow_x": null,
            "grid_auto_flow": null,
            "grid_area": null,
            "grid_template_columns": null,
            "flex": null,
            "_model_name": "LayoutModel",
            "justify_items": null,
            "grid_row": null,
            "max_height": null,
            "align_content": null,
            "visibility": null,
            "align_self": null,
            "height": null,
            "min_height": null,
            "padding": null,
            "grid_auto_rows": null,
            "grid_gap": null,
            "max_width": null,
            "order": null,
            "_view_module_version": "1.2.0",
            "grid_template_areas": null,
            "object_position": null,
            "object_fit": null,
            "grid_auto_columns": null,
            "margin": null,
            "display": null,
            "left": null
          }
        },
        "cee7dba1bbd34433bfe2667e5b901e70": {
          "model_module": "@jupyter-widgets/controls",
          "model_name": "FloatProgressModel",
          "state": {
            "_view_name": "ProgressView",
            "style": "IPY_MODEL_f2303fdbeffd4f29a196f82d68ea9980",
            "_dom_classes": [],
            "description": "Downloading: 100%",
            "_model_name": "FloatProgressModel",
            "bar_style": "success",
            "max": 440473133,
            "_view_module": "@jupyter-widgets/controls",
            "_model_module_version": "1.5.0",
            "value": 440473133,
            "_view_count": null,
            "_view_module_version": "1.5.0",
            "orientation": "horizontal",
            "min": 0,
            "description_tooltip": null,
            "_model_module": "@jupyter-widgets/controls",
            "layout": "IPY_MODEL_5da9a595d87942e581d8e17e29fd7975"
          }
        },
        "059e847068714cb1a0d4f1372c5df8d3": {
          "model_module": "@jupyter-widgets/controls",
          "model_name": "HTMLModel",
          "state": {
            "_view_name": "HTMLView",
            "style": "IPY_MODEL_507807b6b33b48269042450498ce5ec5",
            "_dom_classes": [],
            "description": "",
            "_model_name": "HTMLModel",
            "placeholder": "​",
            "_view_module": "@jupyter-widgets/controls",
            "_model_module_version": "1.5.0",
            "value": " 440M/440M [00:08&lt;00:00, 54.4MB/s]",
            "_view_count": null,
            "_view_module_version": "1.5.0",
            "description_tooltip": null,
            "_model_module": "@jupyter-widgets/controls",
            "layout": "IPY_MODEL_5810df0949184b87a1d77c463bd36435"
          }
        },
        "f2303fdbeffd4f29a196f82d68ea9980": {
          "model_module": "@jupyter-widgets/controls",
          "model_name": "ProgressStyleModel",
          "state": {
            "_view_name": "StyleView",
            "_model_name": "ProgressStyleModel",
            "description_width": "initial",
            "_view_module": "@jupyter-widgets/base",
            "_model_module_version": "1.5.0",
            "_view_count": null,
            "_view_module_version": "1.2.0",
            "bar_color": null,
            "_model_module": "@jupyter-widgets/controls"
          }
        },
        "5da9a595d87942e581d8e17e29fd7975": {
          "model_module": "@jupyter-widgets/base",
          "model_name": "LayoutModel",
          "state": {
            "_view_name": "LayoutView",
            "grid_template_rows": null,
            "right": null,
            "justify_content": null,
            "_view_module": "@jupyter-widgets/base",
            "overflow": null,
            "_model_module_version": "1.2.0",
            "_view_count": null,
            "flex_flow": null,
            "width": null,
            "min_width": null,
            "border": null,
            "align_items": null,
            "bottom": null,
            "_model_module": "@jupyter-widgets/base",
            "top": null,
            "grid_column": null,
            "overflow_y": null,
            "overflow_x": null,
            "grid_auto_flow": null,
            "grid_area": null,
            "grid_template_columns": null,
            "flex": null,
            "_model_name": "LayoutModel",
            "justify_items": null,
            "grid_row": null,
            "max_height": null,
            "align_content": null,
            "visibility": null,
            "align_self": null,
            "height": null,
            "min_height": null,
            "padding": null,
            "grid_auto_rows": null,
            "grid_gap": null,
            "max_width": null,
            "order": null,
            "_view_module_version": "1.2.0",
            "grid_template_areas": null,
            "object_position": null,
            "object_fit": null,
            "grid_auto_columns": null,
            "margin": null,
            "display": null,
            "left": null
          }
        },
        "507807b6b33b48269042450498ce5ec5": {
          "model_module": "@jupyter-widgets/controls",
          "model_name": "DescriptionStyleModel",
          "state": {
            "_view_name": "StyleView",
            "_model_name": "DescriptionStyleModel",
            "description_width": "",
            "_view_module": "@jupyter-widgets/base",
            "_model_module_version": "1.5.0",
            "_view_count": null,
            "_view_module_version": "1.2.0",
            "_model_module": "@jupyter-widgets/controls"
          }
        },
        "5810df0949184b87a1d77c463bd36435": {
          "model_module": "@jupyter-widgets/base",
          "model_name": "LayoutModel",
          "state": {
            "_view_name": "LayoutView",
            "grid_template_rows": null,
            "right": null,
            "justify_content": null,
            "_view_module": "@jupyter-widgets/base",
            "overflow": null,
            "_model_module_version": "1.2.0",
            "_view_count": null,
            "flex_flow": null,
            "width": null,
            "min_width": null,
            "border": null,
            "align_items": null,
            "bottom": null,
            "_model_module": "@jupyter-widgets/base",
            "top": null,
            "grid_column": null,
            "overflow_y": null,
            "overflow_x": null,
            "grid_auto_flow": null,
            "grid_area": null,
            "grid_template_columns": null,
            "flex": null,
            "_model_name": "LayoutModel",
            "justify_items": null,
            "grid_row": null,
            "max_height": null,
            "align_content": null,
            "visibility": null,
            "align_self": null,
            "height": null,
            "min_height": null,
            "padding": null,
            "grid_auto_rows": null,
            "grid_gap": null,
            "max_width": null,
            "order": null,
            "_view_module_version": "1.2.0",
            "grid_template_areas": null,
            "object_position": null,
            "object_fit": null,
            "grid_auto_columns": null,
            "margin": null,
            "display": null,
            "left": null
          }
        },
        "4d6b24cdb9874814bcddd0fcacfab0fa": {
          "model_module": "@jupyter-widgets/controls",
          "model_name": "HBoxModel",
          "state": {
            "_view_name": "HBoxView",
            "_dom_classes": [],
            "_model_name": "HBoxModel",
            "_view_module": "@jupyter-widgets/controls",
            "_model_module_version": "1.5.0",
            "_view_count": null,
            "_view_module_version": "1.5.0",
            "box_style": "",
            "layout": "IPY_MODEL_0a4c8c25679145ac8b0c9ce2f7e76f0a",
            "_model_module": "@jupyter-widgets/controls",
            "children": [
              "IPY_MODEL_5bb55257da704804b685babb3c4509b6",
              "IPY_MODEL_f7f38a503eed4b59acb903194ab3699f"
            ]
          }
        },
        "0a4c8c25679145ac8b0c9ce2f7e76f0a": {
          "model_module": "@jupyter-widgets/base",
          "model_name": "LayoutModel",
          "state": {
            "_view_name": "LayoutView",
            "grid_template_rows": null,
            "right": null,
            "justify_content": null,
            "_view_module": "@jupyter-widgets/base",
            "overflow": null,
            "_model_module_version": "1.2.0",
            "_view_count": null,
            "flex_flow": null,
            "width": null,
            "min_width": null,
            "border": null,
            "align_items": null,
            "bottom": null,
            "_model_module": "@jupyter-widgets/base",
            "top": null,
            "grid_column": null,
            "overflow_y": null,
            "overflow_x": null,
            "grid_auto_flow": null,
            "grid_area": null,
            "grid_template_columns": null,
            "flex": null,
            "_model_name": "LayoutModel",
            "justify_items": null,
            "grid_row": null,
            "max_height": null,
            "align_content": null,
            "visibility": null,
            "align_self": null,
            "height": null,
            "min_height": null,
            "padding": null,
            "grid_auto_rows": null,
            "grid_gap": null,
            "max_width": null,
            "order": null,
            "_view_module_version": "1.2.0",
            "grid_template_areas": null,
            "object_position": null,
            "object_fit": null,
            "grid_auto_columns": null,
            "margin": null,
            "display": null,
            "left": null
          }
        },
        "5bb55257da704804b685babb3c4509b6": {
          "model_module": "@jupyter-widgets/controls",
          "model_name": "FloatProgressModel",
          "state": {
            "_view_name": "ProgressView",
            "style": "IPY_MODEL_0848ae5ff222455c9247913c930dbf83",
            "_dom_classes": [],
            "description": "Downloading: 100%",
            "_model_name": "FloatProgressModel",
            "bar_style": "success",
            "max": 231508,
            "_view_module": "@jupyter-widgets/controls",
            "_model_module_version": "1.5.0",
            "value": 231508,
            "_view_count": null,
            "_view_module_version": "1.5.0",
            "orientation": "horizontal",
            "min": 0,
            "description_tooltip": null,
            "_model_module": "@jupyter-widgets/controls",
            "layout": "IPY_MODEL_8149d502cd8145e2b4b6b2fccda177ab"
          }
        },
        "f7f38a503eed4b59acb903194ab3699f": {
          "model_module": "@jupyter-widgets/controls",
          "model_name": "HTMLModel",
          "state": {
            "_view_name": "HTMLView",
            "style": "IPY_MODEL_40f44b4da58241079d337a5641961de3",
            "_dom_classes": [],
            "description": "",
            "_model_name": "HTMLModel",
            "placeholder": "​",
            "_view_module": "@jupyter-widgets/controls",
            "_model_module_version": "1.5.0",
            "value": " 232k/232k [00:00&lt;00:00, 1.99MB/s]",
            "_view_count": null,
            "_view_module_version": "1.5.0",
            "description_tooltip": null,
            "_model_module": "@jupyter-widgets/controls",
            "layout": "IPY_MODEL_e6db9c3bb9bd4292ad2d7cd9c5909196"
          }
        },
        "0848ae5ff222455c9247913c930dbf83": {
          "model_module": "@jupyter-widgets/controls",
          "model_name": "ProgressStyleModel",
          "state": {
            "_view_name": "StyleView",
            "_model_name": "ProgressStyleModel",
            "description_width": "initial",
            "_view_module": "@jupyter-widgets/base",
            "_model_module_version": "1.5.0",
            "_view_count": null,
            "_view_module_version": "1.2.0",
            "bar_color": null,
            "_model_module": "@jupyter-widgets/controls"
          }
        },
        "8149d502cd8145e2b4b6b2fccda177ab": {
          "model_module": "@jupyter-widgets/base",
          "model_name": "LayoutModel",
          "state": {
            "_view_name": "LayoutView",
            "grid_template_rows": null,
            "right": null,
            "justify_content": null,
            "_view_module": "@jupyter-widgets/base",
            "overflow": null,
            "_model_module_version": "1.2.0",
            "_view_count": null,
            "flex_flow": null,
            "width": null,
            "min_width": null,
            "border": null,
            "align_items": null,
            "bottom": null,
            "_model_module": "@jupyter-widgets/base",
            "top": null,
            "grid_column": null,
            "overflow_y": null,
            "overflow_x": null,
            "grid_auto_flow": null,
            "grid_area": null,
            "grid_template_columns": null,
            "flex": null,
            "_model_name": "LayoutModel",
            "justify_items": null,
            "grid_row": null,
            "max_height": null,
            "align_content": null,
            "visibility": null,
            "align_self": null,
            "height": null,
            "min_height": null,
            "padding": null,
            "grid_auto_rows": null,
            "grid_gap": null,
            "max_width": null,
            "order": null,
            "_view_module_version": "1.2.0",
            "grid_template_areas": null,
            "object_position": null,
            "object_fit": null,
            "grid_auto_columns": null,
            "margin": null,
            "display": null,
            "left": null
          }
        },
        "40f44b4da58241079d337a5641961de3": {
          "model_module": "@jupyter-widgets/controls",
          "model_name": "DescriptionStyleModel",
          "state": {
            "_view_name": "StyleView",
            "_model_name": "DescriptionStyleModel",
            "description_width": "",
            "_view_module": "@jupyter-widgets/base",
            "_model_module_version": "1.5.0",
            "_view_count": null,
            "_view_module_version": "1.2.0",
            "_model_module": "@jupyter-widgets/controls"
          }
        },
        "e6db9c3bb9bd4292ad2d7cd9c5909196": {
          "model_module": "@jupyter-widgets/base",
          "model_name": "LayoutModel",
          "state": {
            "_view_name": "LayoutView",
            "grid_template_rows": null,
            "right": null,
            "justify_content": null,
            "_view_module": "@jupyter-widgets/base",
            "overflow": null,
            "_model_module_version": "1.2.0",
            "_view_count": null,
            "flex_flow": null,
            "width": null,
            "min_width": null,
            "border": null,
            "align_items": null,
            "bottom": null,
            "_model_module": "@jupyter-widgets/base",
            "top": null,
            "grid_column": null,
            "overflow_y": null,
            "overflow_x": null,
            "grid_auto_flow": null,
            "grid_area": null,
            "grid_template_columns": null,
            "flex": null,
            "_model_name": "LayoutModel",
            "justify_items": null,
            "grid_row": null,
            "max_height": null,
            "align_content": null,
            "visibility": null,
            "align_self": null,
            "height": null,
            "min_height": null,
            "padding": null,
            "grid_auto_rows": null,
            "grid_gap": null,
            "max_width": null,
            "order": null,
            "_view_module_version": "1.2.0",
            "grid_template_areas": null,
            "object_position": null,
            "object_fit": null,
            "grid_auto_columns": null,
            "margin": null,
            "display": null,
            "left": null
          }
        }
      }
    }
  },
  "cells": [
    {
      "cell_type": "code",
      "metadata": {
        "id": "7gFIpLfOdQjt"
      },
      "source": [
        " # imports\n",
        "# !pip install spacy==2.3.5\n",
        "# !python -m spacy download en_core_web_sm\n",
        "# !python -m spacy download en\n",
        "# import spacy\n"
      ],
      "execution_count": null,
      "outputs": []
    },
    {
      "cell_type": "code",
      "metadata": {
        "colab": {
          "base_uri": "https://localhost:8080/"
        },
        "id": "bhORrLif8YUS",
        "outputId": "0fc122ec-aed4-42ab-89b2-874f1bf80a78"
      },
      "source": [
        "import pandas as pd\n",
        "import numpy as np\n",
        "import re\n",
        "import string\n",
        "import nltk\n",
        "import matplotlib.pyplot as plt\n",
        "import spacy\n",
        "\n",
        "from nltk.sentiment.vader import SentimentIntensityAnalyzer as SIA\n",
        "nltk.download('punkt')\n",
        "\n",
        "import warnings\n",
        "warnings.filterwarnings(\"ignore\")"
      ],
      "execution_count": null,
      "outputs": [
        {
          "output_type": "stream",
          "text": [
            "/usr/local/lib/python3.7/dist-packages/nltk/twitter/__init__.py:20: UserWarning: The twython library has not been installed. Some functionality from the twitter package will not be available.\n",
            "  warnings.warn(\"The twython library has not been installed. \"\n"
          ],
          "name": "stderr"
        },
        {
          "output_type": "stream",
          "text": [
            "[nltk_data] Downloading package punkt to /root/nltk_data...\n",
            "[nltk_data]   Unzipping tokenizers/punkt.zip.\n"
          ],
          "name": "stdout"
        }
      ]
    },
    {
      "cell_type": "code",
      "metadata": {
        "colab": {
          "base_uri": "https://localhost:8080/",
          "height": 272
        },
        "id": "Td4WQUGr7t4k",
        "outputId": "5d42596a-554f-47a6-d487-de3afbb1733b"
      },
      "source": [
        "data = pd.read_csv('reddit_wsb.csv')\n",
        "data.head()\n",
        "\n",
        "# nyseStocks = pd.read_csv('nyse.csv')\n",
        "# nasdaqStocks = pd.read_csv('nasdaq.csv')\n",
        "\n",
        "data.head()"
      ],
      "execution_count": null,
      "outputs": [
        {
          "output_type": "execute_result",
          "data": {
            "text/html": [
              "<div>\n",
              "<style scoped>\n",
              "    .dataframe tbody tr th:only-of-type {\n",
              "        vertical-align: middle;\n",
              "    }\n",
              "\n",
              "    .dataframe tbody tr th {\n",
              "        vertical-align: top;\n",
              "    }\n",
              "\n",
              "    .dataframe thead th {\n",
              "        text-align: right;\n",
              "    }\n",
              "</style>\n",
              "<table border=\"1\" class=\"dataframe\">\n",
              "  <thead>\n",
              "    <tr style=\"text-align: right;\">\n",
              "      <th></th>\n",
              "      <th>title</th>\n",
              "      <th>score</th>\n",
              "      <th>id</th>\n",
              "      <th>url</th>\n",
              "      <th>comms_num</th>\n",
              "      <th>created</th>\n",
              "      <th>body</th>\n",
              "      <th>timestamp</th>\n",
              "    </tr>\n",
              "  </thead>\n",
              "  <tbody>\n",
              "    <tr>\n",
              "      <th>0</th>\n",
              "      <td>It's not about the money, it's about sending a...</td>\n",
              "      <td>55</td>\n",
              "      <td>l6ulcx</td>\n",
              "      <td>https://v.redd.it/6j75regs72e61</td>\n",
              "      <td>6</td>\n",
              "      <td>1611862661</td>\n",
              "      <td>NaN</td>\n",
              "      <td>1/28/2021 21:37</td>\n",
              "    </tr>\n",
              "    <tr>\n",
              "      <th>1</th>\n",
              "      <td>Math Professor Scott Steiner says the numbers ...</td>\n",
              "      <td>110</td>\n",
              "      <td>l6uibd</td>\n",
              "      <td>https://v.redd.it/ah50lyny62e61</td>\n",
              "      <td>23</td>\n",
              "      <td>1611862330</td>\n",
              "      <td>NaN</td>\n",
              "      <td>1/28/2021 21:32</td>\n",
              "    </tr>\n",
              "    <tr>\n",
              "      <th>2</th>\n",
              "      <td>Exit the system GME</td>\n",
              "      <td>0</td>\n",
              "      <td>l6uhhn</td>\n",
              "      <td>https://www.reddit.com/r/wallstreetbets/commen...</td>\n",
              "      <td>47</td>\n",
              "      <td>1611862235</td>\n",
              "      <td>The CEO of NASDAQ pushed to halt trading “to g...</td>\n",
              "      <td>1/28/2021 21:30</td>\n",
              "    </tr>\n",
              "    <tr>\n",
              "      <th>3</th>\n",
              "      <td>NEW SEC FILING FOR GME! CAN SOMEONE LESS RETAR...</td>\n",
              "      <td>29</td>\n",
              "      <td>l6ugk6</td>\n",
              "      <td>https://sec.report/Document/0001193125-21-019848/</td>\n",
              "      <td>74</td>\n",
              "      <td>1611862137</td>\n",
              "      <td>NaN</td>\n",
              "      <td>1/28/2021 21:28</td>\n",
              "    </tr>\n",
              "    <tr>\n",
              "      <th>4</th>\n",
              "      <td>Not to distract from GME, just thought our AMC...</td>\n",
              "      <td>71</td>\n",
              "      <td>l6ufgy</td>\n",
              "      <td>https://i.redd.it/4h2sukb662e61.jpg</td>\n",
              "      <td>156</td>\n",
              "      <td>1611862016</td>\n",
              "      <td>NaN</td>\n",
              "      <td>1/28/2021 21:26</td>\n",
              "    </tr>\n",
              "  </tbody>\n",
              "</table>\n",
              "</div>"
            ],
            "text/plain": [
              "                                               title  ...        timestamp\n",
              "0  It's not about the money, it's about sending a...  ...  1/28/2021 21:37\n",
              "1  Math Professor Scott Steiner says the numbers ...  ...  1/28/2021 21:32\n",
              "2                                Exit the system GME  ...  1/28/2021 21:30\n",
              "3  NEW SEC FILING FOR GME! CAN SOMEONE LESS RETAR...  ...  1/28/2021 21:28\n",
              "4  Not to distract from GME, just thought our AMC...  ...  1/28/2021 21:26\n",
              "\n",
              "[5 rows x 8 columns]"
            ]
          },
          "metadata": {
            "tags": []
          },
          "execution_count": 3
        }
      ]
    },
    {
      "cell_type": "code",
      "metadata": {
        "colab": {
          "base_uri": "https://localhost:8080/"
        },
        "id": "cltwpyFcNy07",
        "outputId": "3c7adf98-ce9b-46ae-a95d-a24d5df05319"
      },
      "source": [
        "data['length'] = [len(i.split()) for i in data['title']]\n",
        "data['length'].min()"
      ],
      "execution_count": null,
      "outputs": [
        {
          "output_type": "execute_result",
          "data": {
            "text/plain": [
              "1"
            ]
          },
          "metadata": {
            "tags": []
          },
          "execution_count": 4
        }
      ]
    },
    {
      "cell_type": "code",
      "metadata": {
        "id": "REe13V1PPObG"
      },
      "source": [
        "#Contains a list of every ticker tape used on the NYSE and NASDAQ\n",
        "# stocks = set(nyseStocks['Symbol'])\n",
        "# stocks.update(set(nasdaqStocks['Symbol']))\n"
      ],
      "execution_count": null,
      "outputs": []
    },
    {
      "cell_type": "code",
      "metadata": {
        "id": "ofRSU934OG_a"
      },
      "source": [
        "data = data[data['length'] > 3].copy()"
      ],
      "execution_count": null,
      "outputs": []
    },
    {
      "cell_type": "code",
      "metadata": {
        "id": "DjZ6gumpOq84",
        "colab": {
          "base_uri": "https://localhost:8080/"
        },
        "outputId": "f07d60e7-67de-4b24-c7ff-f26eab8c1a2b"
      },
      "source": [
        "data['length'].min()"
      ],
      "execution_count": null,
      "outputs": [
        {
          "output_type": "execute_result",
          "data": {
            "text/plain": [
              "4"
            ]
          },
          "metadata": {
            "tags": []
          },
          "execution_count": 7
        }
      ]
    },
    {
      "cell_type": "code",
      "metadata": {
        "id": "qi12JGJRYORC"
      },
      "source": [
        "def isUppercase(word):\n",
        "  return word.isupper()"
      ],
      "execution_count": null,
      "outputs": []
    },
    {
      "cell_type": "code",
      "metadata": {
        "id": "n941Jn3s-fgi"
      },
      "source": [
        "#RUN ONLY ONCE.  DATA IS IN title_data.csv \n",
        "\n",
        "title_data = data[['title','timestamp']].copy()\n",
        "title_data = title_data.dropna()\n",
        "nlp = spacy.load(\"en_core_web_sm\")\n",
        "\n",
        "# tickerList = []\n",
        "\n",
        "# for index, row in title_data.iterrows():\n",
        "#   words = nlp(row['title'])\n",
        "#   token_list = [token.orth_ for token in words]\n",
        "#   wordset = set(filter(isUppercase, token_list))\n",
        "#   tempTickers = (wordset.intersection(stocks))\n",
        "#   #print(tempTickers)\n",
        "#   tickerList.append(tempTickers)\n",
        "#   #title_data[index, 'stocks'] = tempTickers\n",
        "# print(tickerList)\n",
        "# title_data['tickers'] = pd.Series(tickerList).values\n",
        "\n",
        "title_data.title = title_data.title.str.lower()\n",
        "title_data.title = title_data.title.apply(lambda x:re.sub('@[^\\s]+','',x))\n",
        "title_data.title = title_data.title.apply(lambda x:re.sub(r\"http\\S+\", \"\", x))\n",
        "title_data.timestamp = pd.to_datetime(title_data.timestamp).dt.date"
      ],
      "execution_count": null,
      "outputs": []
    },
    {
      "cell_type": "code",
      "metadata": {
        "id": "i_7Q24b1-j-v"
      },
      "source": [
        "#Download the code for the first time after running the prev block\n",
        "\n",
        "# title_data.head()\n",
        "\n",
        "# from google.colab import files\n",
        "\n",
        "# title_data.to_csv('title_data.csv')\n",
        "\n",
        "# files.download(\"title_data.csv\")"
      ],
      "execution_count": null,
      "outputs": []
    },
    {
      "cell_type": "code",
      "metadata": {
        "id": "jEmc0YdxL_f7"
      },
      "source": [
        "# title_data = pd.read_csv('title_data.csv')"
      ],
      "execution_count": null,
      "outputs": []
    },
    {
      "cell_type": "code",
      "metadata": {
        "colab": {
          "base_uri": "https://localhost:8080/",
          "height": 207
        },
        "id": "Ykl9RFvR-2o7",
        "outputId": "9092eeb5-6885-44e6-a2a9-9216c4d5ca61"
      },
      "source": [
        "import nltk\n",
        "nltk.download('vader_lexicon')\n",
        "\n",
        "sid = SIA()\n",
        "\n",
        "title_data['sentiments'] = title_data['title'].apply(lambda x: sid.polarity_scores(' '.join(re.findall(r'\\w+',x.lower()))))\n",
        "title_data['Positive Sentiment'] = title_data['sentiments'].apply(lambda x: x['pos']+1*(10**-6)) \n",
        "title_data['Neutral Sentiment'] = title_data['sentiments'].apply(lambda x: x['neu']+1*(10**-6))\n",
        "title_data['Negative Sentiment'] = title_data['sentiments'].apply(lambda x: x['neg']+1*(10**-6))\n",
        "title_data.drop(columns=['sentiments'],inplace=True)\n",
        "title_data.head()"
      ],
      "execution_count": null,
      "outputs": [
        {
          "output_type": "stream",
          "text": [
            "[nltk_data] Downloading package vader_lexicon to /root/nltk_data...\n"
          ],
          "name": "stdout"
        },
        {
          "output_type": "execute_result",
          "data": {
            "text/html": [
              "<div>\n",
              "<style scoped>\n",
              "    .dataframe tbody tr th:only-of-type {\n",
              "        vertical-align: middle;\n",
              "    }\n",
              "\n",
              "    .dataframe tbody tr th {\n",
              "        vertical-align: top;\n",
              "    }\n",
              "\n",
              "    .dataframe thead th {\n",
              "        text-align: right;\n",
              "    }\n",
              "</style>\n",
              "<table border=\"1\" class=\"dataframe\">\n",
              "  <thead>\n",
              "    <tr style=\"text-align: right;\">\n",
              "      <th></th>\n",
              "      <th>title</th>\n",
              "      <th>timestamp</th>\n",
              "      <th>Positive Sentiment</th>\n",
              "      <th>Neutral Sentiment</th>\n",
              "      <th>Negative Sentiment</th>\n",
              "    </tr>\n",
              "  </thead>\n",
              "  <tbody>\n",
              "    <tr>\n",
              "      <th>0</th>\n",
              "      <td>it's not about the money, it's about sending a...</td>\n",
              "      <td>2021-01-28</td>\n",
              "      <td>0.000001</td>\n",
              "      <td>1.000001</td>\n",
              "      <td>0.000001</td>\n",
              "    </tr>\n",
              "    <tr>\n",
              "      <th>1</th>\n",
              "      <td>math professor scott steiner says the numbers ...</td>\n",
              "      <td>2021-01-28</td>\n",
              "      <td>0.000001</td>\n",
              "      <td>0.728001</td>\n",
              "      <td>0.272001</td>\n",
              "    </tr>\n",
              "    <tr>\n",
              "      <th>2</th>\n",
              "      <td>exit the system gme</td>\n",
              "      <td>2021-01-28</td>\n",
              "      <td>0.000001</td>\n",
              "      <td>1.000001</td>\n",
              "      <td>0.000001</td>\n",
              "    </tr>\n",
              "    <tr>\n",
              "      <th>3</th>\n",
              "      <td>new sec filing for gme! can someone less retar...</td>\n",
              "      <td>2021-01-28</td>\n",
              "      <td>0.138001</td>\n",
              "      <td>0.658001</td>\n",
              "      <td>0.204001</td>\n",
              "    </tr>\n",
              "    <tr>\n",
              "      <th>4</th>\n",
              "      <td>not to distract from gme, just thought our amc...</td>\n",
              "      <td>2021-01-28</td>\n",
              "      <td>0.119001</td>\n",
              "      <td>0.881001</td>\n",
              "      <td>0.000001</td>\n",
              "    </tr>\n",
              "  </tbody>\n",
              "</table>\n",
              "</div>"
            ],
            "text/plain": [
              "                                               title  ... Negative Sentiment\n",
              "0  it's not about the money, it's about sending a...  ...           0.000001\n",
              "1  math professor scott steiner says the numbers ...  ...           0.272001\n",
              "2                                exit the system gme  ...           0.000001\n",
              "3  new sec filing for gme! can someone less retar...  ...           0.204001\n",
              "4  not to distract from gme, just thought our amc...  ...           0.000001\n",
              "\n",
              "[5 rows x 5 columns]"
            ]
          },
          "metadata": {
            "tags": []
          },
          "execution_count": 12
        }
      ]
    },
    {
      "cell_type": "code",
      "metadata": {
        "id": "Xg8BxpVz_t6X"
      },
      "source": [
        "title_data['class_name'] = title_data[['Positive Sentiment', 'Neutral Sentiment', 'Negative Sentiment']].idxmax(axis=1)"
      ],
      "execution_count": null,
      "outputs": []
    },
    {
      "cell_type": "code",
      "metadata": {
        "colab": {
          "base_uri": "https://localhost:8080/",
          "height": 191
        },
        "id": "E0HqcKjp_xE-",
        "outputId": "1b85c6e4-c3fd-41da-8447-a670e4ba8468"
      },
      "source": [
        "data = title_data[title_data['class_name'] != 'Neutral Sentiment']\n",
        "data.reset_index(drop=True, inplace=True)\n",
        "data.head(5)"
      ],
      "execution_count": null,
      "outputs": [
        {
          "output_type": "execute_result",
          "data": {
            "text/html": [
              "<div>\n",
              "<style scoped>\n",
              "    .dataframe tbody tr th:only-of-type {\n",
              "        vertical-align: middle;\n",
              "    }\n",
              "\n",
              "    .dataframe tbody tr th {\n",
              "        vertical-align: top;\n",
              "    }\n",
              "\n",
              "    .dataframe thead th {\n",
              "        text-align: right;\n",
              "    }\n",
              "</style>\n",
              "<table border=\"1\" class=\"dataframe\">\n",
              "  <thead>\n",
              "    <tr style=\"text-align: right;\">\n",
              "      <th></th>\n",
              "      <th>title</th>\n",
              "      <th>timestamp</th>\n",
              "      <th>Positive Sentiment</th>\n",
              "      <th>Neutral Sentiment</th>\n",
              "      <th>Negative Sentiment</th>\n",
              "      <th>class_name</th>\n",
              "    </tr>\n",
              "  </thead>\n",
              "  <tbody>\n",
              "    <tr>\n",
              "      <th>0</th>\n",
              "      <td>i love you retards!!!!</td>\n",
              "      <td>2021-01-28</td>\n",
              "      <td>0.677001</td>\n",
              "      <td>0.323001</td>\n",
              "      <td>0.000001</td>\n",
              "      <td>Positive Sentiment</td>\n",
              "    </tr>\n",
              "    <tr>\n",
              "      <th>1</th>\n",
              "      <td>the wallstreetbets war museum</td>\n",
              "      <td>2021-01-28</td>\n",
              "      <td>0.000001</td>\n",
              "      <td>0.435001</td>\n",
              "      <td>0.565001</td>\n",
              "      <td>Negative Sentiment</td>\n",
              "    </tr>\n",
              "    <tr>\n",
              "      <th>2</th>\n",
              "      <td>this took me longer than i'd like to admit. en...</td>\n",
              "      <td>2021-01-28</td>\n",
              "      <td>0.517001</td>\n",
              "      <td>0.483001</td>\n",
              "      <td>0.000001</td>\n",
              "      <td>Positive Sentiment</td>\n",
              "    </tr>\n",
              "    <tr>\n",
              "      <th>3</th>\n",
              "      <td>most recent short interest</td>\n",
              "      <td>2021-01-28</td>\n",
              "      <td>0.521001</td>\n",
              "      <td>0.479001</td>\n",
              "      <td>0.000001</td>\n",
              "      <td>Positive Sentiment</td>\n",
              "    </tr>\n",
              "    <tr>\n",
              "      <th>4</th>\n",
              "      <td>i love the movies: part 1</td>\n",
              "      <td>2021-01-28</td>\n",
              "      <td>0.583001</td>\n",
              "      <td>0.417001</td>\n",
              "      <td>0.000001</td>\n",
              "      <td>Positive Sentiment</td>\n",
              "    </tr>\n",
              "  </tbody>\n",
              "</table>\n",
              "</div>"
            ],
            "text/plain": [
              "                                               title  ...          class_name\n",
              "0                             i love you retards!!!!  ...  Positive Sentiment\n",
              "1                      the wallstreetbets war museum  ...  Negative Sentiment\n",
              "2  this took me longer than i'd like to admit. en...  ...  Positive Sentiment\n",
              "3                         most recent short interest  ...  Positive Sentiment\n",
              "4                          i love the movies: part 1  ...  Positive Sentiment\n",
              "\n",
              "[5 rows x 6 columns]"
            ]
          },
          "metadata": {
            "tags": []
          },
          "execution_count": 14
        }
      ]
    },
    {
      "cell_type": "code",
      "metadata": {
        "id": "xNvglZBN_yk0"
      },
      "source": [
        "data['class_name'][data['class_name'] == 'Negative Sentiment'] = 0\n",
        "data['class_name'][data['class_name'] == 'Positive Sentiment'] = 1\n",
        "data.rename(columns={'class_name':'class'}, inplace=True)"
      ],
      "execution_count": null,
      "outputs": []
    },
    {
      "cell_type": "code",
      "metadata": {
        "colab": {
          "base_uri": "https://localhost:8080/",
          "height": 191
        },
        "id": "F_t8VgGp_0vr",
        "outputId": "11e6bffe-96bb-4b56-b7f9-72c4d8608712"
      },
      "source": [
        "data = data[['title','class']].copy()\n",
        "data.head()"
      ],
      "execution_count": null,
      "outputs": [
        {
          "output_type": "execute_result",
          "data": {
            "text/html": [
              "<div>\n",
              "<style scoped>\n",
              "    .dataframe tbody tr th:only-of-type {\n",
              "        vertical-align: middle;\n",
              "    }\n",
              "\n",
              "    .dataframe tbody tr th {\n",
              "        vertical-align: top;\n",
              "    }\n",
              "\n",
              "    .dataframe thead th {\n",
              "        text-align: right;\n",
              "    }\n",
              "</style>\n",
              "<table border=\"1\" class=\"dataframe\">\n",
              "  <thead>\n",
              "    <tr style=\"text-align: right;\">\n",
              "      <th></th>\n",
              "      <th>title</th>\n",
              "      <th>class</th>\n",
              "    </tr>\n",
              "  </thead>\n",
              "  <tbody>\n",
              "    <tr>\n",
              "      <th>0</th>\n",
              "      <td>i love you retards!!!!</td>\n",
              "      <td>1</td>\n",
              "    </tr>\n",
              "    <tr>\n",
              "      <th>1</th>\n",
              "      <td>the wallstreetbets war museum</td>\n",
              "      <td>0</td>\n",
              "    </tr>\n",
              "    <tr>\n",
              "      <th>2</th>\n",
              "      <td>this took me longer than i'd like to admit. en...</td>\n",
              "      <td>1</td>\n",
              "    </tr>\n",
              "    <tr>\n",
              "      <th>3</th>\n",
              "      <td>most recent short interest</td>\n",
              "      <td>1</td>\n",
              "    </tr>\n",
              "    <tr>\n",
              "      <th>4</th>\n",
              "      <td>i love the movies: part 1</td>\n",
              "      <td>1</td>\n",
              "    </tr>\n",
              "  </tbody>\n",
              "</table>\n",
              "</div>"
            ],
            "text/plain": [
              "                                               title class\n",
              "0                             i love you retards!!!!     1\n",
              "1                      the wallstreetbets war museum     0\n",
              "2  this took me longer than i'd like to admit. en...     1\n",
              "3                         most recent short interest     1\n",
              "4                          i love the movies: part 1     1"
            ]
          },
          "metadata": {
            "tags": []
          },
          "execution_count": 16
        }
      ]
    },
    {
      "cell_type": "code",
      "metadata": {
        "id": "inlu_nafMVSz"
      },
      "source": [
        "data['length'] = [len(i.split()) for i in data['title']]"
      ],
      "execution_count": null,
      "outputs": []
    },
    {
      "cell_type": "code",
      "metadata": {
        "colab": {
          "base_uri": "https://localhost:8080/"
        },
        "id": "AMjvAv5ZNe20",
        "outputId": "500a0013-3744-4259-daf7-3fad604747f3"
      },
      "source": [
        "data['length'].min()"
      ],
      "execution_count": null,
      "outputs": [
        {
          "output_type": "execute_result",
          "data": {
            "text/plain": [
              "3"
            ]
          },
          "metadata": {
            "tags": []
          },
          "execution_count": 18
        }
      ]
    },
    {
      "cell_type": "code",
      "metadata": {
        "colab": {
          "base_uri": "https://localhost:8080/"
        },
        "id": "srerP-ZpSmFF",
        "outputId": "56d8b3d2-8ae6-4b6d-dd1c-a1670cb1f9a4"
      },
      "source": [
        "!pip install transformers==3.0"
      ],
      "execution_count": null,
      "outputs": [
        {
          "output_type": "stream",
          "text": [
            "Collecting transformers==3.0\n",
            "\u001b[?25l  Downloading https://files.pythonhosted.org/packages/9c/35/1c3f6e62d81f5f0daff1384e6d5e6c5758682a8357ebc765ece2b9def62b/transformers-3.0.0-py3-none-any.whl (754kB)\n",
            "\r\u001b[K     |▍                               | 10kB 26.3MB/s eta 0:00:01\r\u001b[K     |▉                               | 20kB 31.5MB/s eta 0:00:01\r\u001b[K     |█▎                              | 30kB 20.2MB/s eta 0:00:01\r\u001b[K     |█▊                              | 40kB 23.7MB/s eta 0:00:01\r\u001b[K     |██▏                             | 51kB 22.0MB/s eta 0:00:01\r\u001b[K     |██▋                             | 61kB 24.3MB/s eta 0:00:01\r\u001b[K     |███                             | 71kB 18.2MB/s eta 0:00:01\r\u001b[K     |███▌                            | 81kB 19.2MB/s eta 0:00:01\r\u001b[K     |████                            | 92kB 18.5MB/s eta 0:00:01\r\u001b[K     |████▍                           | 102kB 18.8MB/s eta 0:00:01\r\u001b[K     |████▊                           | 112kB 18.8MB/s eta 0:00:01\r\u001b[K     |█████▏                          | 122kB 18.8MB/s eta 0:00:01\r\u001b[K     |█████▋                          | 133kB 18.8MB/s eta 0:00:01\r\u001b[K     |██████                          | 143kB 18.8MB/s eta 0:00:01\r\u001b[K     |██████▌                         | 153kB 18.8MB/s eta 0:00:01\r\u001b[K     |███████                         | 163kB 18.8MB/s eta 0:00:01\r\u001b[K     |███████▍                        | 174kB 18.8MB/s eta 0:00:01\r\u001b[K     |███████▉                        | 184kB 18.8MB/s eta 0:00:01\r\u001b[K     |████████▎                       | 194kB 18.8MB/s eta 0:00:01\r\u001b[K     |████████▊                       | 204kB 18.8MB/s eta 0:00:01\r\u001b[K     |█████████▏                      | 215kB 18.8MB/s eta 0:00:01\r\u001b[K     |█████████▌                      | 225kB 18.8MB/s eta 0:00:01\r\u001b[K     |██████████                      | 235kB 18.8MB/s eta 0:00:01\r\u001b[K     |██████████▍                     | 245kB 18.8MB/s eta 0:00:01\r\u001b[K     |██████████▉                     | 256kB 18.8MB/s eta 0:00:01\r\u001b[K     |███████████▎                    | 266kB 18.8MB/s eta 0:00:01\r\u001b[K     |███████████▊                    | 276kB 18.8MB/s eta 0:00:01\r\u001b[K     |████████████▏                   | 286kB 18.8MB/s eta 0:00:01\r\u001b[K     |████████████▋                   | 296kB 18.8MB/s eta 0:00:01\r\u001b[K     |█████████████                   | 307kB 18.8MB/s eta 0:00:01\r\u001b[K     |█████████████▌                  | 317kB 18.8MB/s eta 0:00:01\r\u001b[K     |██████████████                  | 327kB 18.8MB/s eta 0:00:01\r\u001b[K     |██████████████▎                 | 337kB 18.8MB/s eta 0:00:01\r\u001b[K     |██████████████▊                 | 348kB 18.8MB/s eta 0:00:01\r\u001b[K     |███████████████▏                | 358kB 18.8MB/s eta 0:00:01\r\u001b[K     |███████████████▋                | 368kB 18.8MB/s eta 0:00:01\r\u001b[K     |████████████████                | 378kB 18.8MB/s eta 0:00:01\r\u001b[K     |████████████████▌               | 389kB 18.8MB/s eta 0:00:01\r\u001b[K     |█████████████████               | 399kB 18.8MB/s eta 0:00:01\r\u001b[K     |█████████████████▍              | 409kB 18.8MB/s eta 0:00:01\r\u001b[K     |█████████████████▉              | 419kB 18.8MB/s eta 0:00:01\r\u001b[K     |██████████████████▎             | 430kB 18.8MB/s eta 0:00:01\r\u001b[K     |██████████████████▊             | 440kB 18.8MB/s eta 0:00:01\r\u001b[K     |███████████████████             | 450kB 18.8MB/s eta 0:00:01\r\u001b[K     |███████████████████▌            | 460kB 18.8MB/s eta 0:00:01\r\u001b[K     |████████████████████            | 471kB 18.8MB/s eta 0:00:01\r\u001b[K     |████████████████████▍           | 481kB 18.8MB/s eta 0:00:01\r\u001b[K     |████████████████████▉           | 491kB 18.8MB/s eta 0:00:01\r\u001b[K     |█████████████████████▎          | 501kB 18.8MB/s eta 0:00:01\r\u001b[K     |█████████████████████▊          | 512kB 18.8MB/s eta 0:00:01\r\u001b[K     |██████████████████████▏         | 522kB 18.8MB/s eta 0:00:01\r\u001b[K     |██████████████████████▋         | 532kB 18.8MB/s eta 0:00:01\r\u001b[K     |███████████████████████         | 542kB 18.8MB/s eta 0:00:01\r\u001b[K     |███████████████████████▌        | 552kB 18.8MB/s eta 0:00:01\r\u001b[K     |███████████████████████▉        | 563kB 18.8MB/s eta 0:00:01\r\u001b[K     |████████████████████████▎       | 573kB 18.8MB/s eta 0:00:01\r\u001b[K     |████████████████████████▊       | 583kB 18.8MB/s eta 0:00:01\r\u001b[K     |█████████████████████████▏      | 593kB 18.8MB/s eta 0:00:01\r\u001b[K     |█████████████████████████▋      | 604kB 18.8MB/s eta 0:00:01\r\u001b[K     |██████████████████████████      | 614kB 18.8MB/s eta 0:00:01\r\u001b[K     |██████████████████████████▌     | 624kB 18.8MB/s eta 0:00:01\r\u001b[K     |███████████████████████████     | 634kB 18.8MB/s eta 0:00:01\r\u001b[K     |███████████████████████████▍    | 645kB 18.8MB/s eta 0:00:01\r\u001b[K     |███████████████████████████▉    | 655kB 18.8MB/s eta 0:00:01\r\u001b[K     |████████████████████████████▎   | 665kB 18.8MB/s eta 0:00:01\r\u001b[K     |████████████████████████████▋   | 675kB 18.8MB/s eta 0:00:01\r\u001b[K     |█████████████████████████████   | 686kB 18.8MB/s eta 0:00:01\r\u001b[K     |█████████████████████████████▌  | 696kB 18.8MB/s eta 0:00:01\r\u001b[K     |██████████████████████████████  | 706kB 18.8MB/s eta 0:00:01\r\u001b[K     |██████████████████████████████▍ | 716kB 18.8MB/s eta 0:00:01\r\u001b[K     |██████████████████████████████▉ | 727kB 18.8MB/s eta 0:00:01\r\u001b[K     |███████████████████████████████▎| 737kB 18.8MB/s eta 0:00:01\r\u001b[K     |███████████████████████████████▊| 747kB 18.8MB/s eta 0:00:01\r\u001b[K     |████████████████████████████████| 757kB 18.8MB/s \n",
            "\u001b[?25hRequirement already satisfied: numpy in /usr/local/lib/python3.7/dist-packages (from transformers==3.0) (1.19.5)\n",
            "Requirement already satisfied: filelock in /usr/local/lib/python3.7/dist-packages (from transformers==3.0) (3.0.12)\n",
            "Collecting sacremoses\n",
            "\u001b[?25l  Downloading https://files.pythonhosted.org/packages/75/ee/67241dc87f266093c533a2d4d3d69438e57d7a90abb216fa076e7d475d4a/sacremoses-0.0.45-py3-none-any.whl (895kB)\n",
            "\u001b[K     |████████████████████████████████| 901kB 52.2MB/s \n",
            "\u001b[?25hRequirement already satisfied: tqdm>=4.27 in /usr/local/lib/python3.7/dist-packages (from transformers==3.0) (4.41.1)\n",
            "Requirement already satisfied: packaging in /usr/local/lib/python3.7/dist-packages (from transformers==3.0) (20.9)\n",
            "Requirement already satisfied: regex!=2019.12.17 in /usr/local/lib/python3.7/dist-packages (from transformers==3.0) (2019.12.20)\n",
            "Collecting sentencepiece\n",
            "\u001b[?25l  Downloading https://files.pythonhosted.org/packages/f5/99/e0808cb947ba10f575839c43e8fafc9cc44e4a7a2c8f79c60db48220a577/sentencepiece-0.1.95-cp37-cp37m-manylinux2014_x86_64.whl (1.2MB)\n",
            "\u001b[K     |████████████████████████████████| 1.2MB 54.7MB/s \n",
            "\u001b[?25hRequirement already satisfied: requests in /usr/local/lib/python3.7/dist-packages (from transformers==3.0) (2.23.0)\n",
            "Collecting tokenizers==0.8.0-rc4\n",
            "\u001b[?25l  Downloading https://files.pythonhosted.org/packages/f7/82/0e82a95bd9db2b32569500cc1bb47aa7c4e0f57aa5e35cceba414096917b/tokenizers-0.8.0rc4-cp37-cp37m-manylinux1_x86_64.whl (3.0MB)\n",
            "\u001b[K     |████████████████████████████████| 3.0MB 50.8MB/s \n",
            "\u001b[?25hRequirement already satisfied: joblib in /usr/local/lib/python3.7/dist-packages (from sacremoses->transformers==3.0) (1.0.1)\n",
            "Requirement already satisfied: click in /usr/local/lib/python3.7/dist-packages (from sacremoses->transformers==3.0) (7.1.2)\n",
            "Requirement already satisfied: six in /usr/local/lib/python3.7/dist-packages (from sacremoses->transformers==3.0) (1.15.0)\n",
            "Requirement already satisfied: pyparsing>=2.0.2 in /usr/local/lib/python3.7/dist-packages (from packaging->transformers==3.0) (2.4.7)\n",
            "Requirement already satisfied: chardet<4,>=3.0.2 in /usr/local/lib/python3.7/dist-packages (from requests->transformers==3.0) (3.0.4)\n",
            "Requirement already satisfied: urllib3!=1.25.0,!=1.25.1,<1.26,>=1.21.1 in /usr/local/lib/python3.7/dist-packages (from requests->transformers==3.0) (1.24.3)\n",
            "Requirement already satisfied: certifi>=2017.4.17 in /usr/local/lib/python3.7/dist-packages (from requests->transformers==3.0) (2020.12.5)\n",
            "Requirement already satisfied: idna<3,>=2.5 in /usr/local/lib/python3.7/dist-packages (from requests->transformers==3.0) (2.10)\n",
            "Installing collected packages: sacremoses, sentencepiece, tokenizers, transformers\n",
            "Successfully installed sacremoses-0.0.45 sentencepiece-0.1.95 tokenizers-0.8.0rc4 transformers-3.0.0\n"
          ],
          "name": "stdout"
        }
      ]
    },
    {
      "cell_type": "code",
      "metadata": {
        "id": "GucX2QwMSNbF"
      },
      "source": [
        "import torch\n",
        "import torch.nn as nn\n",
        "from sklearn.model_selection import train_test_split\n",
        "from sklearn.metrics import classification_report\n",
        "import transformers\n",
        "from transformers import AutoModel, BertTokenizerFast\n",
        "\n",
        "# specify GPU\n",
        "device = torch.device(\"cuda\")"
      ],
      "execution_count": null,
      "outputs": []
    },
    {
      "cell_type": "code",
      "metadata": {
        "id": "sPTW1c3uBF8x"
      },
      "source": [
        "from sklearn.model_selection import train_test_split\n",
        "sentences_train, sentences_test, y_train, y_test = train_test_split(list(data['title']), list(data['class']), train_size=0.8, random_state=1, stratify=data['class'])"
      ],
      "execution_count": null,
      "outputs": []
    },
    {
      "cell_type": "code",
      "metadata": {
        "colab": {
          "base_uri": "https://localhost:8080/",
          "height": 161,
          "referenced_widgets": [
            "62e075cb424f46d1943a45e37cc04000",
            "98b1c3b1bfcf4e3797cf28a4ba135c2c",
            "2de4eda0cf3648168e36e524a4607c57",
            "1e55bf774de943c1bd194781bc1deaf1",
            "1869b3dfab60478189e78b0fb020951b",
            "b1f5064305ed40a5b2069bfb1015e0e9",
            "159a583ae06b479abca62b5f5139f029",
            "d663d9e53dad48c2bf79b6745b03a446",
            "6750d0d0d313486d94d07de62c4c9231",
            "0727e348438e48718f6aa5d81233a52d",
            "cee7dba1bbd34433bfe2667e5b901e70",
            "059e847068714cb1a0d4f1372c5df8d3",
            "f2303fdbeffd4f29a196f82d68ea9980",
            "5da9a595d87942e581d8e17e29fd7975",
            "507807b6b33b48269042450498ce5ec5",
            "5810df0949184b87a1d77c463bd36435",
            "4d6b24cdb9874814bcddd0fcacfab0fa",
            "0a4c8c25679145ac8b0c9ce2f7e76f0a",
            "5bb55257da704804b685babb3c4509b6",
            "f7f38a503eed4b59acb903194ab3699f",
            "0848ae5ff222455c9247913c930dbf83",
            "8149d502cd8145e2b4b6b2fccda177ab",
            "40f44b4da58241079d337a5641961de3",
            "e6db9c3bb9bd4292ad2d7cd9c5909196"
          ]
        },
        "id": "7a3R48ELSXPh",
        "outputId": "e47acbf9-2c01-4d94-d906-1ae920f69170"
      },
      "source": [
        "bert = AutoModel.from_pretrained('bert-base-uncased')\n",
        "tokenizer = BertTokenizerFast.from_pretrained('bert-base-uncased')"
      ],
      "execution_count": null,
      "outputs": [
        {
          "output_type": "display_data",
          "data": {
            "application/vnd.jupyter.widget-view+json": {
              "model_id": "62e075cb424f46d1943a45e37cc04000",
              "version_minor": 0,
              "version_major": 2
            },
            "text/plain": [
              "HBox(children=(FloatProgress(value=0.0, description='Downloading', max=433.0, style=ProgressStyle(description_…"
            ]
          },
          "metadata": {
            "tags": []
          }
        },
        {
          "output_type": "stream",
          "text": [
            "\n"
          ],
          "name": "stdout"
        },
        {
          "output_type": "display_data",
          "data": {
            "application/vnd.jupyter.widget-view+json": {
              "model_id": "6750d0d0d313486d94d07de62c4c9231",
              "version_minor": 0,
              "version_major": 2
            },
            "text/plain": [
              "HBox(children=(FloatProgress(value=0.0, description='Downloading', max=440473133.0, style=ProgressStyle(descri…"
            ]
          },
          "metadata": {
            "tags": []
          }
        },
        {
          "output_type": "stream",
          "text": [
            "\n"
          ],
          "name": "stdout"
        },
        {
          "output_type": "display_data",
          "data": {
            "application/vnd.jupyter.widget-view+json": {
              "model_id": "4d6b24cdb9874814bcddd0fcacfab0fa",
              "version_minor": 0,
              "version_major": 2
            },
            "text/plain": [
              "HBox(children=(FloatProgress(value=0.0, description='Downloading', max=231508.0, style=ProgressStyle(descripti…"
            ]
          },
          "metadata": {
            "tags": []
          }
        },
        {
          "output_type": "stream",
          "text": [
            "\n"
          ],
          "name": "stdout"
        }
      ]
    },
    {
      "cell_type": "code",
      "metadata": {
        "id": "36eqysX8TsIS"
      },
      "source": [
        "tokens_train = tokenizer.batch_encode_plus(\n",
        "    sentences_train,\n",
        "    max_length = 8,\n",
        "    pad_to_max_length=True,\n",
        "    truncation=True\n",
        ")\n",
        "\n",
        "tokens_test = tokenizer.batch_encode_plus(\n",
        "    sentences_test,\n",
        "    max_length = 8,\n",
        "    pad_to_max_length=True,\n",
        "    truncation=True\n",
        ")"
      ],
      "execution_count": null,
      "outputs": []
    },
    {
      "cell_type": "code",
      "metadata": {
        "id": "mkem_9MTUhM4"
      },
      "source": [
        "train_seq = torch.tensor(tokens_train['input_ids'])\n",
        "train_mask = torch.tensor(tokens_train['attention_mask'])\n",
        "train_y = torch.tensor(y_train) \n",
        "\n",
        "test_seq = torch.tensor(tokens_test['input_ids'])\n",
        "test_mask = torch.tensor(tokens_test['attention_mask'])\n",
        "test_y = torch.tensor(y_test) "
      ],
      "execution_count": null,
      "outputs": []
    },
    {
      "cell_type": "code",
      "metadata": {
        "id": "LRpGCakHV8yh"
      },
      "source": [
        "from torch.utils.data import TensorDataset, DataLoader, RandomSampler, SequentialSampler\n",
        "\n",
        "batch_size = 32\n",
        "train_data = TensorDataset(train_seq, train_mask, train_y)\n",
        "train_sampler = RandomSampler(train_data)\n",
        "train_dataloader = DataLoader(train_data, sampler=train_sampler, batch_size=batch_size)\n",
        "test_data = TensorDataset(test_seq, test_mask, test_y)\n",
        "test_sampler = SequentialSampler(test_data)\n",
        "test_dataloader = DataLoader(test_data, sampler = test_sampler, batch_size=batch_size)"
      ],
      "execution_count": null,
      "outputs": []
    },
    {
      "cell_type": "code",
      "metadata": {
        "id": "jc9K8enjWU3z"
      },
      "source": [
        "for param in bert.parameters():\n",
        "    param.requires_grad = True"
      ],
      "execution_count": null,
      "outputs": []
    },
    {
      "cell_type": "code",
      "metadata": {
        "id": "2vA9lfVkW79B"
      },
      "source": [
        "class BERT_Arch(nn.Module):\n",
        "\n",
        "    def __init__(self, bert):\n",
        "      super(BERT_Arch, self).__init__()\n",
        "      self.bert = bert       \n",
        "      self.dropout = nn.Dropout(0.1)      \n",
        "      self.relu =  nn.ReLU()\n",
        "      self.fc1 = nn.Linear(768,512)      \n",
        "      self.fc2 = nn.Linear(512,2)\n",
        "      self.softmax = nn.LogSoftmax(dim=1)\n",
        "\n",
        "    def forward(self, sent_id, mask):\n",
        "      _, cls_hs = self.bert(sent_id, attention_mask=mask)\n",
        "      x = self.fc1(cls_hs)\n",
        "      x = self.relu(x)\n",
        "      x = self.dropout(x)\n",
        "      x = self.fc2(x)      \n",
        "      x = self.softmax(x)\n",
        "      return x"
      ],
      "execution_count": null,
      "outputs": []
    },
    {
      "cell_type": "code",
      "metadata": {
        "id": "8pZKJe8nXY8S"
      },
      "source": [
        "model = BERT_Arch(bert)\n",
        "model = model.to(device)"
      ],
      "execution_count": null,
      "outputs": []
    },
    {
      "cell_type": "code",
      "metadata": {
        "id": "vOtNAYu_X1A4"
      },
      "source": [
        "from transformers import AdamW\n",
        "optimizer = AdamW(model.parameters(), lr = 1e-5)         "
      ],
      "execution_count": null,
      "outputs": []
    },
    {
      "cell_type": "code",
      "metadata": {
        "id": "_7FEr6YNYR1X"
      },
      "source": [
        "cross_entropy  = nn.NLLLoss() \n",
        "epochs = 5"
      ],
      "execution_count": null,
      "outputs": []
    },
    {
      "cell_type": "code",
      "metadata": {
        "id": "Y-JTsla5ZNqx"
      },
      "source": [
        "def train():\n",
        "  \n",
        "  model.train()\n",
        "  total_loss, total_accuracy = 0, 0  \n",
        "  total_preds=[]\n",
        "  \n",
        "  for step,batch in enumerate(train_dataloader):    \n",
        "    if step % 50 == 0 and not step == 0:\n",
        "      print('  Batch {:>5,}  of  {:>5,}.'.format(step, len(train_dataloader)))\n",
        "\n",
        "    batch = [r.to(device) for r in batch]\n",
        "    sent_id, mask, labels = batch\n",
        "    model.zero_grad()        \n",
        "    preds = model(sent_id, mask)\n",
        "    loss = cross_entropy(preds, labels)\n",
        "    total_loss = total_loss + loss.item()\n",
        "    loss.backward()\n",
        "    torch.nn.utils.clip_grad_norm_(model.parameters(), 1.0)\n",
        "    optimizer.step()\n",
        "    preds=preds.detach().cpu().numpy()\n",
        "    total_preds.append(preds)\n",
        "  avg_loss = total_loss / len(train_dataloader)\n",
        "  total_preds  = np.concatenate(total_preds, axis=0)\n",
        "  return avg_loss, total_preds\n"
      ],
      "execution_count": null,
      "outputs": []
    },
    {
      "cell_type": "code",
      "metadata": {
        "id": "fvzVreeDZoGo"
      },
      "source": [
        "def evaluate():\n",
        "\n",
        "  print(\"\\nEvaluating...\")\n",
        "  \n",
        "  model.eval()\n",
        "  total_loss, total_accuracy = 0, 0  \n",
        "  total_preds = []\n",
        "  \n",
        "  for step,batch in enumerate(test_dataloader):    \n",
        "    if step % 50 == 0 and not step == 0:      \n",
        "      elapsed = format_time(time.time() - t0)            \n",
        "      print('  Batch {:>5,}  of  {:>5,}.'.format(step, len(val_dataloader)))\n",
        "    batch = [t.to(device) for t in batch]\n",
        "    sent_id, mask, labels = batch\n",
        "    with torch.no_grad():      \n",
        "      preds = model(sent_id, mask)\n",
        "      loss = cross_entropy(preds,labels)\n",
        "      total_loss = total_loss + loss.item()\n",
        "      preds = preds.detach().cpu().numpy()\n",
        "      total_preds.append(preds)\n",
        "  avg_loss = total_loss / len(test_dataloader) \n",
        "  total_preds  = np.concatenate(total_preds, axis=0)\n",
        "  return avg_loss, total_preds\n"
      ],
      "execution_count": null,
      "outputs": []
    },
    {
      "cell_type": "code",
      "metadata": {
        "colab": {
          "base_uri": "https://localhost:8080/"
        },
        "id": "xyRcLzm7aHna",
        "outputId": "8f84ffca-044f-4baf-b97a-20d122c92e29"
      },
      "source": [
        "best_valid_loss = float('inf')\n",
        "train_losses=[]\n",
        "valid_losses=[]\n",
        "for epoch in range(epochs):\n",
        "    print('\\n Epoch {:} / {:}'.format(epoch + 1, epochs))    \n",
        "    train_loss, _ = train()\n",
        "    valid_loss, _ = evaluate()    \n",
        "    if valid_loss < best_valid_loss:\n",
        "        best_valid_loss = valid_loss\n",
        "        torch.save(model.state_dict(), 'saved_weights.pt')    \n",
        "    train_losses.append(train_loss)\n",
        "    valid_losses.append(valid_loss)\n",
        "    print(f'\\nTraining Loss: {train_loss:.3f}')\n",
        "    print(f'Validation Loss: {valid_loss:.3f}')\n",
        "\n"
      ],
      "execution_count": null,
      "outputs": [
        {
          "output_type": "stream",
          "text": [
            "\n",
            " Epoch 1 / 5\n",
            "\n",
            "Evaluating...\n",
            "\n",
            "Training Loss: 0.679\n",
            "Validation Loss: 0.664\n",
            "\n",
            " Epoch 2 / 5\n",
            "\n",
            "Evaluating...\n",
            "\n",
            "Training Loss: 0.608\n",
            "Validation Loss: 0.508\n",
            "\n",
            " Epoch 3 / 5\n",
            "\n",
            "Evaluating...\n",
            "\n",
            "Training Loss: 0.426\n",
            "Validation Loss: 0.427\n",
            "\n",
            " Epoch 4 / 5\n",
            "\n",
            "Evaluating...\n",
            "\n",
            "Training Loss: 0.297\n",
            "Validation Loss: 0.408\n",
            "\n",
            " Epoch 5 / 5\n",
            "\n",
            "Evaluating...\n",
            "\n",
            "Training Loss: 0.223\n",
            "Validation Loss: 0.466\n"
          ],
          "name": "stdout"
        }
      ]
    },
    {
      "cell_type": "code",
      "metadata": {
        "colab": {
          "base_uri": "https://localhost:8080/"
        },
        "id": "Ygnf4aawaom_",
        "outputId": "49340c83-3481-4c5c-eb3c-e27d8b14d20b"
      },
      "source": [
        "path = 'saved_weights.pt'\n",
        "model.load_state_dict(torch.load(path))"
      ],
      "execution_count": null,
      "outputs": [
        {
          "output_type": "execute_result",
          "data": {
            "text/plain": [
              "<All keys matched successfully>"
            ]
          },
          "metadata": {
            "tags": []
          },
          "execution_count": 36
        }
      ]
    },
    {
      "cell_type": "code",
      "metadata": {
        "id": "rsrxHwTjasC1"
      },
      "source": [
        "with torch.no_grad():\n",
        "  preds = model(test_seq.to(device), test_mask.to(device))\n",
        "  preds = preds.detach().cpu().numpy()"
      ],
      "execution_count": null,
      "outputs": []
    },
    {
      "cell_type": "code",
      "metadata": {
        "id": "-fi3d-Fua-70"
      },
      "source": [
        "y_test = np.array(y_test)"
      ],
      "execution_count": null,
      "outputs": []
    },
    {
      "cell_type": "code",
      "metadata": {
        "colab": {
          "base_uri": "https://localhost:8080/"
        },
        "id": "0xZ95byzbBne",
        "outputId": "5b1624da-918e-48d5-b2e1-bd899986a46c"
      },
      "source": [
        "preds = np.argmax(preds, axis = 1)\n",
        "print(classification_report(test_y, preds))"
      ],
      "execution_count": null,
      "outputs": [
        {
          "output_type": "stream",
          "text": [
            "              precision    recall  f1-score   support\n",
            "\n",
            "           0       0.81      0.77      0.79       153\n",
            "           1       0.85      0.88      0.86       218\n",
            "\n",
            "    accuracy                           0.83       371\n",
            "   macro avg       0.83      0.82      0.83       371\n",
            "weighted avg       0.83      0.83      0.83       371\n",
            "\n"
          ],
          "name": "stdout"
        }
      ]
    },
    {
      "cell_type": "code",
      "metadata": {
        "id": "LXqmpMwsdvu8"
      },
      "source": [
        "df = pd.DataFrame({'text': list(sentences_test), 'sentiment': preds})"
      ],
      "execution_count": null,
      "outputs": []
    },
    {
      "cell_type": "code",
      "metadata": {
        "colab": {
          "base_uri": "https://localhost:8080/",
          "height": 391
        },
        "id": "eIewxwODd0Gu",
        "outputId": "efe7eaf2-b6c3-4bf6-a082-f37178a1e8b5"
      },
      "source": [
        "df"
      ],
      "execution_count": null,
      "outputs": [
        {
          "output_type": "execute_result",
          "data": {
            "text/html": [
              "<div>\n",
              "<style scoped>\n",
              "    .dataframe tbody tr th:only-of-type {\n",
              "        vertical-align: middle;\n",
              "    }\n",
              "\n",
              "    .dataframe tbody tr th {\n",
              "        vertical-align: top;\n",
              "    }\n",
              "\n",
              "    .dataframe thead th {\n",
              "        text-align: right;\n",
              "    }\n",
              "</style>\n",
              "<table border=\"1\" class=\"dataframe\">\n",
              "  <thead>\n",
              "    <tr style=\"text-align: right;\">\n",
              "      <th></th>\n",
              "      <th>text</th>\n",
              "      <th>sentiment</th>\n",
              "    </tr>\n",
              "  </thead>\n",
              "  <tbody>\n",
              "    <tr>\n",
              "      <th>0</th>\n",
              "      <td>i love all of you.</td>\n",
              "      <td>1</td>\n",
              "    </tr>\n",
              "    <tr>\n",
              "      <th>1</th>\n",
              "      <td>amc yolo update.. ape love movies 🦍🦍🦍</td>\n",
              "      <td>1</td>\n",
              "    </tr>\n",
              "    <tr>\n",
              "      <th>2</th>\n",
              "      <td>my own \"if gme hits..\" promise that i hope i f...</td>\n",
              "      <td>1</td>\n",
              "    </tr>\n",
              "    <tr>\n",
              "      <th>3</th>\n",
              "      <td>i like the stock and free tendies</td>\n",
              "      <td>1</td>\n",
              "    </tr>\n",
              "    <tr>\n",
              "      <th>4</th>\n",
              "      <td>gme the high risk high reward play</td>\n",
              "      <td>0</td>\n",
              "    </tr>\n",
              "    <tr>\n",
              "      <th>...</th>\n",
              "      <td>...</td>\n",
              "      <td>...</td>\n",
              "    </tr>\n",
              "    <tr>\n",
              "      <th>366</th>\n",
              "      <td>a bit delayed here in oz but i'm fucking in yo...</td>\n",
              "      <td>0</td>\n",
              "    </tr>\n",
              "    <tr>\n",
              "      <th>367</th>\n",
              "      <td>32 gme shares at $250 a share</td>\n",
              "      <td>1</td>\n",
              "    </tr>\n",
              "    <tr>\n",
              "      <th>368</th>\n",
              "      <td>nok isn't banned 🚀 🚀 🚀 🚀 🚀 🚀 🚀 🚀 🚀</td>\n",
              "      <td>1</td>\n",
              "    </tr>\n",
              "    <tr>\n",
              "      <th>369</th>\n",
              "      <td>dont let the vultures win on amc.</td>\n",
              "      <td>0</td>\n",
              "    </tr>\n",
              "    <tr>\n",
              "      <th>370</th>\n",
              "      <td>am i a certified retard now?</td>\n",
              "      <td>0</td>\n",
              "    </tr>\n",
              "  </tbody>\n",
              "</table>\n",
              "<p>371 rows × 2 columns</p>\n",
              "</div>"
            ],
            "text/plain": [
              "                                                  text  sentiment\n",
              "0                                   i love all of you.          1\n",
              "1                amc yolo update.. ape love movies 🦍🦍🦍          1\n",
              "2    my own \"if gme hits..\" promise that i hope i f...          1\n",
              "3                    i like the stock and free tendies          1\n",
              "4                   gme the high risk high reward play          0\n",
              "..                                                 ...        ...\n",
              "366  a bit delayed here in oz but i'm fucking in yo...          0\n",
              "367                      32 gme shares at $250 a share          1\n",
              "368                 nok isn't banned 🚀 🚀 🚀 🚀 🚀 🚀 🚀 🚀 🚀          1\n",
              "369                  dont let the vultures win on amc.          0\n",
              "370                       am i a certified retard now?          0\n",
              "\n",
              "[371 rows x 2 columns]"
            ]
          },
          "metadata": {
            "tags": []
          },
          "execution_count": 41
        }
      ]
    }
  ]
}